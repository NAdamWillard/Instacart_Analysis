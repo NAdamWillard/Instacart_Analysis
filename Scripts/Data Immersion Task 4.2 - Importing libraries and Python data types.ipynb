{
 "cells": [
  {
   "cell_type": "markdown",
   "id": "5de248e5",
   "metadata": {},
   "source": [
    "# Task 4.2 - Importing libraries and Python data types"
   ]
  },
  {
   "cell_type": "markdown",
   "id": "84c661ae",
   "metadata": {},
   "source": [
    "### Table of Contents\n",
    "\n",
    "1. Importing libraries\n",
    "2. Data types"
   ]
  },
  {
   "cell_type": "markdown",
   "id": "437b9758",
   "metadata": {},
   "source": [
    "# 01. Importing libraries"
   ]
  },
  {
   "cell_type": "code",
   "execution_count": 1,
   "id": "5ffb77ae",
   "metadata": {},
   "outputs": [],
   "source": [
    "# Import libraries\n",
    "import pandas as pd\n",
    "import numpy as np\n",
    "import os"
   ]
  },
  {
   "cell_type": "markdown",
   "id": "7c693ca0",
   "metadata": {},
   "source": [
    "# 02. Data types"
   ]
  },
  {
   "cell_type": "code",
   "execution_count": 21,
   "id": "417683a8",
   "metadata": {},
   "outputs": [],
   "source": [
    "x = 50"
   ]
  },
  {
   "cell_type": "code",
   "execution_count": 22,
   "id": "fb90b533",
   "metadata": {},
   "outputs": [
    {
     "data": {
      "text/plain": [
       "100"
      ]
     },
     "execution_count": 22,
     "metadata": {},
     "output_type": "execute_result"
    }
   ],
   "source": [
    "x + x"
   ]
  },
  {
   "cell_type": "code",
   "execution_count": 23,
   "id": "dee2b11b",
   "metadata": {},
   "outputs": [],
   "source": [
    "y = 20"
   ]
  },
  {
   "cell_type": "code",
   "execution_count": 24,
   "id": "2b294da9",
   "metadata": {},
   "outputs": [
    {
     "data": {
      "text/plain": [
       "100"
      ]
     },
     "execution_count": 24,
     "metadata": {},
     "output_type": "execute_result"
    }
   ],
   "source": [
    "y + y + y + y + y"
   ]
  },
  {
   "cell_type": "code",
   "execution_count": 26,
   "id": "9cedf173",
   "metadata": {},
   "outputs": [],
   "source": [
    "z = 200"
   ]
  },
  {
   "cell_type": "code",
   "execution_count": 27,
   "id": "3aa1fa84",
   "metadata": {},
   "outputs": [
    {
     "data": {
      "text/plain": [
       "100"
      ]
     },
     "execution_count": 27,
     "metadata": {},
     "output_type": "execute_result"
    }
   ],
   "source": [
    "z - x - x"
   ]
  },
  {
   "cell_type": "code",
   "execution_count": 28,
   "id": "5afd0d9a",
   "metadata": {},
   "outputs": [],
   "source": [
    "a = 2.345"
   ]
  },
  {
   "cell_type": "code",
   "execution_count": 29,
   "id": "14708274",
   "metadata": {},
   "outputs": [],
   "source": [
    "b = 5.678"
   ]
  },
  {
   "cell_type": "code",
   "execution_count": 30,
   "id": "04bc0c3b",
   "metadata": {},
   "outputs": [
    {
     "data": {
      "text/plain": [
       "2.421321961620469"
      ]
     },
     "execution_count": 30,
     "metadata": {},
     "output_type": "execute_result"
    }
   ],
   "source": [
    "b/a"
   ]
  },
  {
   "cell_type": "code",
   "execution_count": 41,
   "id": "f0fa2fd3",
   "metadata": {},
   "outputs": [
    {
     "data": {
      "text/plain": [
       "0.41299753434307857"
      ]
     },
     "execution_count": 41,
     "metadata": {},
     "output_type": "execute_result"
    }
   ],
   "source": [
    "a/b"
   ]
  },
  {
   "cell_type": "code",
   "execution_count": 31,
   "id": "6addb5bd",
   "metadata": {},
   "outputs": [],
   "source": [
    "l = 'car'"
   ]
  },
  {
   "cell_type": "code",
   "execution_count": 32,
   "id": "10fb1ea1",
   "metadata": {},
   "outputs": [],
   "source": [
    "m = 'eer'"
   ]
  },
  {
   "cell_type": "code",
   "execution_count": 33,
   "id": "3f20a3ba",
   "metadata": {},
   "outputs": [],
   "source": [
    "n = 'foun'"
   ]
  },
  {
   "cell_type": "code",
   "execution_count": 34,
   "id": "2c28bdd2",
   "metadata": {},
   "outputs": [],
   "source": [
    "o = 'dry'"
   ]
  },
  {
   "cell_type": "code",
   "execution_count": 35,
   "id": "c65bfccc",
   "metadata": {},
   "outputs": [
    {
     "data": {
      "text/plain": [
       "'careerfoundry'"
      ]
     },
     "execution_count": 35,
     "metadata": {},
     "output_type": "execute_result"
    }
   ],
   "source": [
    "l + m + n + o"
   ]
  },
  {
   "cell_type": "code",
   "execution_count": 36,
   "id": "21a05cfa",
   "metadata": {},
   "outputs": [],
   "source": [
    "d = 'is teaching me python.'"
   ]
  },
  {
   "cell_type": "code",
   "execution_count": 37,
   "id": "a410220e",
   "metadata": {},
   "outputs": [],
   "source": [
    "e = \"It's good to learn\""
   ]
  },
  {
   "cell_type": "code",
   "execution_count": 38,
   "id": "0ef7badd",
   "metadata": {},
   "outputs": [],
   "source": [
    "f = 'python like this.'"
   ]
  },
  {
   "cell_type": "code",
   "execution_count": 39,
   "id": "7c8cc938",
   "metadata": {},
   "outputs": [
    {
     "data": {
      "text/plain": [
       "\"careerfoundry is teaching me python. It's good to learn python like this.\""
      ]
     },
     "execution_count": 39,
     "metadata": {},
     "output_type": "execute_result"
    }
   ],
   "source": [
    "l+m+n+o + ' ' +d + ' ' + e + ' ' +f"
   ]
  },
  {
   "cell_type": "code",
   "execution_count": 40,
   "id": "fc5bf6e6",
   "metadata": {},
   "outputs": [
    {
     "data": {
      "text/plain": [
       "'careerfoundrycareerfoundrycareerfoundrycareerfoundrycareerfoundrycareerfoundrycareerfoundrycareerfoundrycareerfoundrycareerfoundrycareerfoundrycareerfoundrycareerfoundrycareerfoundrycareerfoundrycareerfoundrycareerfoundrycareerfoundrycareerfoundrycareerfoundrycareerfoundrycareerfoundrycareerfoundrycareerfoundrycareerfoundrycareerfoundrycareerfoundrycareerfoundrycareerfoundrycareerfoundrycareerfoundrycareerfoundrycareerfoundrycareerfoundrycareerfoundrycareerfoundrycareerfoundrycareerfoundrycareerfoundrycareerfoundrycareerfoundrycareerfoundrycareerfoundrycareerfoundrycareerfoundrycareerfoundrycareerfoundrycareerfoundrycareerfoundrycareerfoundrycareerfoundrycareerfoundrycareerfoundrycareerfoundrycareerfoundrycareerfoundrycareerfoundrycareerfoundrycareerfoundrycareerfoundrycareerfoundrycareerfoundrycareerfoundrycareerfoundrycareerfoundrycareerfoundrycareerfoundrycareerfoundrycareerfoundrycareerfoundrycareerfoundrycareerfoundrycareerfoundrycareerfoundrycareerfoundrycareerfoundrycareerfoundrycareerfoundrycareerfoundrycareerfoundrycareerfoundrycareerfoundrycareerfoundrycareerfoundrycareerfoundrycareerfoundrycareerfoundrycareerfoundrycareerfoundrycareerfoundrycareerfoundrycareerfoundrycareerfoundrycareerfoundrycareerfoundrycareerfoundrycareerfoundrycareerfoundrycareerfoundrycareerfoundry'"
      ]
     },
     "execution_count": 40,
     "metadata": {},
     "output_type": "execute_result"
    }
   ],
   "source": [
    "(l+m+n+o)*100"
   ]
  },
  {
   "cell_type": "code",
   "execution_count": null,
   "id": "e80c3cb8",
   "metadata": {},
   "outputs": [],
   "source": []
  }
 ],
 "metadata": {
  "kernelspec": {
   "display_name": "Python 3 (ipykernel)",
   "language": "python",
   "name": "python3"
  },
  "language_info": {
   "codemirror_mode": {
    "name": "ipython",
    "version": 3
   },
   "file_extension": ".py",
   "mimetype": "text/x-python",
   "name": "python",
   "nbconvert_exporter": "python",
   "pygments_lexer": "ipython3",
   "version": "3.9.13"
  }
 },
 "nbformat": 4,
 "nbformat_minor": 5
}
